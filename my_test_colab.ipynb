{
  "nbformat": 4,
  "nbformat_minor": 0,
  "metadata": {
    "colab": {
      "provenance": [],
      "authorship_tag": "ABX9TyOWPTo7lSQYLhP8C9D5m6Iq",
      "include_colab_link": true
    },
    "kernelspec": {
      "name": "python3",
      "display_name": "Python 3"
    },
    "language_info": {
      "name": "python"
    }
  },
  "cells": [
    {
      "cell_type": "markdown",
      "metadata": {
        "id": "view-in-github",
        "colab_type": "text"
      },
      "source": [
        "<a href=\"https://colab.research.google.com/github/nozdrenkov/test_colab/blob/main/my_test_colab.ipynb\" target=\"_parent\"><img src=\"https://colab.research.google.com/assets/colab-badge.svg\" alt=\"Open In Colab\"/></a>"
      ]
    },
    {
      "cell_type": "markdown",
      "source": [
        "## This is a simple workflow example on github\n",
        "\n",
        "Here we go!"
      ],
      "metadata": {
        "id": "FoKcRt6Hj7a8"
      }
    },
    {
      "cell_type": "code",
      "execution_count": null,
      "metadata": {
        "id": "DJodxwFejKl_",
        "outputId": "33400c92-8e3e-453d-a872-b14f04cb41ff",
        "colab": {
          "base_uri": "https://localhost:8080/"
        }
      },
      "outputs": [
        {
          "output_type": "stream",
          "name": "stdout",
          "text": [
            "hello world!\n"
          ]
        }
      ],
      "source": [
        "print('hello world!')\n",
        "\n",
        "string_type = 'Hello'  # @param {type: \"string\"}"
      ]
    },
    {
      "cell_type": "code",
      "source": [
        "import external_lib as el\n",
        "\n",
        "el.my_function('bla')"
      ],
      "metadata": {
        "colab": {
          "base_uri": "https://localhost:8080/"
        },
        "id": "ZgA5IdUKmPIs",
        "outputId": "c95581cf-4bd0-45cc-a8aa-b8f851fb2358"
      },
      "execution_count": null,
      "outputs": [
        {
          "output_type": "stream",
          "name": "stdout",
          "text": [
            "Yay!! bla\n"
          ]
        }
      ]
    }
  ]
}